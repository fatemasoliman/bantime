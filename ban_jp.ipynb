{
 "cells": [
  {
   "cell_type": "markdown",
   "metadata": {},
   "source": [
    "# Route ETA Calculator with Ban Area Restrictions\n",
    "## Install Required Packages (run once)"
   ]
  },
  {
   "cell_type": "code",
   "execution_count": 21,
   "metadata": {},
   "outputs": [],
   "source": [
    "# Uncomment and run this cell if packages are not installed\n",
    "# !pip install pandas openrouteservice python-dateutil folium"
   ]
  },
  {
   "cell_type": "markdown",
   "metadata": {},
   "source": [
    "## Import Libraries"
   ]
  },
  {
   "cell_type": "code",
   "execution_count": 22,
   "metadata": {},
   "outputs": [],
   "source": [
    "import os\n",
    "import pandas as pd\n",
    "import openrouteservice\n",
    "from datetime import datetime, timedelta, time as dt_time\n",
    "from dateutil import tz\n",
    "import math\n",
    "import folium\n",
    "from IPython.display import display, HTML"
   ]
  },
  {
   "cell_type": "markdown",
   "metadata": {},
   "source": [
    "## Configuration Parameters (EDIT THESE VALUES)"
   ]
  },
  {
   "cell_type": "code",
   "execution_count": 23,
   "metadata": {},
   "outputs": [],
   "source": [
    "# =============================================================================\n",
    "# CONFIGURATION - EDIT THESE VALUES FOR YOUR TRIP\n",
    "# =============================================================================\n",
    "\n",
    "# Trip coordinates\n",
    "START_LAT = 24.7136\n",
    "START_LON = 46.6753\n",
    "END_LAT = 21.4225\n",
    "END_LON = 39.8262\n",
    "\n",
    "# Trip start time (ISO format with timezone)\n",
    "START_DATETIME = \"2025-07-02T23:31:50+03:00\"\n",
    "\n",
    "# OpenRouteService API key (get from https://openrouteservice.org/)\n",
    "ORS_API_KEY = \"your_api_key_here\"  # Replace with your actual API key\n",
    "# Alternatively, set as environment variable: os.getenv(\"ORS_API_KEY\")\n",
    "\n",
    "# Ban areas CSV file\n",
    "BAN_CSV = \"ban_times.csv\"\n",
    "\n",
    "# Ban area radius in kilometers\n",
    "BAN_RADIUS_KM = 10\n",
    "\n",
    "# ============================================================================="
   ]
  },
  {
   "cell_type": "markdown",
   "metadata": {},
   "source": [
    "## Constants and Helper Functions"
   ]
  },
  {
   "cell_type": "code",
   "execution_count": 24,
   "metadata": {},
   "outputs": [
    {
     "name": "stdout",
     "output_type": "stream",
     "text": [
      "✓ Helper functions loaded successfully\n"
     ]
    }
   ],
   "source": [
    "# Saudi Arabia timezone\n",
    "SAUDI_TZ = tz.gettz('Asia/Riyadh')\n",
    "\n",
    "# Haversine function to compute distance between two lat/lon points in km\n",
    "def haversine(lat1, lon1, lat2, lon2):\n",
    "    R = 6371  # Earth radius in km\n",
    "    phi1, phi2 = math.radians(lat1), math.radians(lat2)\n",
    "    dphi = math.radians(lat2 - lat1)\n",
    "    dlambda = math.radians(lon2 - lon1)\n",
    "    a = math.sin(dphi / 2) ** 2 + math.cos(phi1) * math.cos(phi2) * math.sin(dlambda / 2) ** 2\n",
    "    return 2 * R * math.asin(math.sqrt(a))\n",
    "\n",
    "# Parse time string (e.g., '6:00') into datetime.time\n",
    "def parse_time(tstr):\n",
    "    h, m = map(int, tstr.split(\":\"))\n",
    "    return dt_time(h, m)\n",
    "\n",
    "# Given a weekday and ban row, get ban start and end datetime objects for the trip date\n",
    "def get_ban_window(trip_date, ban_row):\n",
    "    # trip_date: datetime.date\n",
    "    start_time = parse_time(str(ban_row['Time_Start']))\n",
    "    end_time = parse_time(str(ban_row['Time_End']))\n",
    "    start_dt = datetime.combine(trip_date, start_time, tzinfo=SAUDI_TZ)\n",
    "    end_dt = datetime.combine(trip_date, end_time, tzinfo=SAUDI_TZ)\n",
    "    # Handle overnight ban windows (e.g., 23:00 to 01:00)\n",
    "    if end_dt <= start_dt:\n",
    "        end_dt += timedelta(days=1)\n",
    "    return start_dt, end_dt\n",
    "\n",
    "# Check if a point is within BAN_RADIUS_KM of a ban area\n",
    "def point_in_ban_area(lat, lon, ban_lat, ban_lon, radius_km=BAN_RADIUS_KM):\n",
    "    return haversine(lat, lon, ban_lat, ban_lon) <= radius_km\n",
    "\n",
    "def load_ban_areas(csv_path):\n",
    "    \"\"\"Load ban areas from CSV into a DataFrame.\"\"\"\n",
    "    try:\n",
    "        df = pd.read_csv(csv_path)\n",
    "        return df\n",
    "    except FileNotFoundError:\n",
    "        print(f\"Warning: {csv_path} not found. No ban areas will be applied.\")\n",
    "        return pd.DataFrame()\n",
    "\n",
    "print(\"✓ Helper functions loaded successfully\")"
   ]
  },
  {
   "cell_type": "markdown",
   "metadata": {},
   "source": [
    "## Load Ban Areas and Initialize Trip"
   ]
  },
  {
   "cell_type": "code",
   "execution_count": 25,
   "metadata": {},
   "outputs": [
    {
     "name": "stdout",
     "output_type": "stream",
     "text": [
      "Loaded 38 ban area records\n",
      "\n",
      "Ban areas preview:\n"
     ]
    },
    {
     "data": {
      "text/html": [
       "<div>\n",
       "<style scoped>\n",
       "    .dataframe tbody tr th:only-of-type {\n",
       "        vertical-align: middle;\n",
       "    }\n",
       "\n",
       "    .dataframe tbody tr th {\n",
       "        vertical-align: top;\n",
       "    }\n",
       "\n",
       "    .dataframe thead th {\n",
       "        text-align: right;\n",
       "    }\n",
       "</style>\n",
       "<table border=\"1\" class=\"dataframe\">\n",
       "  <thead>\n",
       "    <tr style=\"text-align: right;\">\n",
       "      <th></th>\n",
       "      <th>Country</th>\n",
       "      <th>City</th>\n",
       "      <th>Day_of_Week</th>\n",
       "      <th>Time_Start</th>\n",
       "      <th>Time_End</th>\n",
       "      <th>Latitude</th>\n",
       "      <th>Longitude</th>\n",
       "    </tr>\n",
       "  </thead>\n",
       "  <tbody>\n",
       "    <tr>\n",
       "      <th>0</th>\n",
       "      <td>Saudi Arabia</td>\n",
       "      <td>Jeddah</td>\n",
       "      <td>Sunday</td>\n",
       "      <td>6:00</td>\n",
       "      <td>9:00</td>\n",
       "      <td>21.4858</td>\n",
       "      <td>39.1925</td>\n",
       "    </tr>\n",
       "    <tr>\n",
       "      <th>1</th>\n",
       "      <td>Saudi Arabia</td>\n",
       "      <td>Jeddah</td>\n",
       "      <td>Sunday</td>\n",
       "      <td>12:00</td>\n",
       "      <td>22:00</td>\n",
       "      <td>21.4858</td>\n",
       "      <td>39.1925</td>\n",
       "    </tr>\n",
       "    <tr>\n",
       "      <th>2</th>\n",
       "      <td>Saudi Arabia</td>\n",
       "      <td>Jeddah</td>\n",
       "      <td>Monday</td>\n",
       "      <td>6:00</td>\n",
       "      <td>9:00</td>\n",
       "      <td>21.4858</td>\n",
       "      <td>39.1925</td>\n",
       "    </tr>\n",
       "    <tr>\n",
       "      <th>3</th>\n",
       "      <td>Saudi Arabia</td>\n",
       "      <td>Jeddah</td>\n",
       "      <td>Monday</td>\n",
       "      <td>12:00</td>\n",
       "      <td>22:00</td>\n",
       "      <td>21.4858</td>\n",
       "      <td>39.1925</td>\n",
       "    </tr>\n",
       "    <tr>\n",
       "      <th>4</th>\n",
       "      <td>Saudi Arabia</td>\n",
       "      <td>Jeddah</td>\n",
       "      <td>Tuesday</td>\n",
       "      <td>6:00</td>\n",
       "      <td>9:00</td>\n",
       "      <td>21.4858</td>\n",
       "      <td>39.1925</td>\n",
       "    </tr>\n",
       "  </tbody>\n",
       "</table>\n",
       "</div>"
      ],
      "text/plain": [
       "        Country    City Day_of_Week Time_Start Time_End  Latitude  Longitude\n",
       "0  Saudi Arabia  Jeddah      Sunday       6:00     9:00   21.4858    39.1925\n",
       "1  Saudi Arabia  Jeddah      Sunday      12:00    22:00   21.4858    39.1925\n",
       "2  Saudi Arabia  Jeddah      Monday       6:00     9:00   21.4858    39.1925\n",
       "3  Saudi Arabia  Jeddah      Monday      12:00    22:00   21.4858    39.1925\n",
       "4  Saudi Arabia  Jeddah     Tuesday       6:00     9:00   21.4858    39.1925"
      ]
     },
     "metadata": {},
     "output_type": "display_data"
    },
    {
     "name": "stdout",
     "output_type": "stream",
     "text": [
      "\n",
      "Trip Details:\n",
      "Start: 2025-07-02 23:31:50 +03\n",
      "Day of week: Wednesday\n",
      "From: (24.7136, 46.6753)\n",
      "To: (21.4225, 39.8262)\n"
     ]
    }
   ],
   "source": [
    "# Load ban areas\n",
    "ban_df = load_ban_areas(BAN_CSV)\n",
    "print(f\"Loaded {len(ban_df)} ban area records\")\n",
    "\n",
    "if not ban_df.empty:\n",
    "    print(\"\\nBan areas preview:\")\n",
    "    display(ban_df.head())\n",
    "else:\n",
    "    print(\"No ban areas loaded - continuing without restrictions\")\n",
    "\n",
    "# Parse trip start datetime\n",
    "start_dt = datetime.fromisoformat(START_DATETIME)\n",
    "if start_dt.tzinfo is None:\n",
    "    start_dt = start_dt.replace(tzinfo=SAUDI_TZ)\n",
    "else:\n",
    "    start_dt = start_dt.astimezone(SAUDI_TZ)\n",
    "\n",
    "trip_date = start_dt.date()\n",
    "trip_weekday = start_dt.strftime('%A')\n",
    "\n",
    "print(f\"\\nTrip Details:\")\n",
    "print(f\"Start: {start_dt.strftime('%Y-%m-%d %H:%M:%S %Z')}\")\n",
    "print(f\"Day of week: {trip_weekday}\")\n",
    "print(f\"From: ({START_LAT:.4f}, {START_LON:.4f})\")\n",
    "print(f\"To: ({END_LAT:.4f}, {END_LON:.4f})\")"
   ]
  },
  {
   "cell_type": "markdown",
   "metadata": {},
   "source": [
    "## Fetch Route from OpenRouteService"
   ]
  },
  {
   "cell_type": "code",
   "execution_count": 26,
   "metadata": {},
   "outputs": [
    {
     "name": "stdout",
     "output_type": "stream",
     "text": [
      "Fetching route from OpenRouteService...\n",
      "❌ Error fetching route: 403 ({'error': 'Access to this API has been disallowed'})\n"
     ]
    }
   ],
   "source": [
    "# Prepare OpenRouteService client\n",
    "if ORS_API_KEY == \"5b3ce3597851110001cf62483a1b4539f1a94e73b7ebee0c67f14d18\":\n",
    "    print(\"⚠️  Please set your OpenRouteService API key in the configuration cell above\")\n",
    "    print(\"Get your free API key from: https://openrouteservice.org/\")\n",
    "else:\n",
    "    try:\n",
    "        client = openrouteservice.Client(key=ORS_API_KEY)\n",
    "        coords = [(START_LON, START_LAT), (END_LON, END_LAT)]\n",
    "        \n",
    "        print(\"Fetching route from OpenRouteService...\")\n",
    "        route = client.directions(coords, profile='driving-car', format='geojson', instructions=False)\n",
    "        \n",
    "        geometry = route['features'][0]['geometry']['coordinates']  # list of [lon, lat]\n",
    "        segments = geometry\n",
    "        \n",
    "        # Get total route distance and duration\n",
    "        summary = route['features'][0]['properties']['summary']\n",
    "        total_distance = summary['distance']  # meters\n",
    "        total_duration = summary['duration']  # seconds\n",
    "        \n",
    "        print(f\"✓ Route fetched successfully\")\n",
    "        print(f\"Total distance: {total_distance/1000:.1f} km\")\n",
    "        print(f\"Estimated duration: {total_duration/3600:.1f} hours\")\n",
    "        \n",
    "    except Exception as e:\n",
    "        print(f\"❌ Error fetching route: {e}\")\n",
    "        route = None"
   ]
  },
  {
   "cell_type": "markdown",
   "metadata": {},
   "source": [
    "## Calculate ETA with Ban Area Restrictions"
   ]
  },
  {
   "cell_type": "code",
   "execution_count": 27,
   "metadata": {},
   "outputs": [],
   "source": [
    "if route is not None:\n",
    "    # Prepare ban windows for the trip day\n",
    "    ban_windows = []\n",
    "    if not ban_df.empty:\n",
    "        for _, row in ban_df.iterrows():\n",
    "            if row['Day_of_Week'] == trip_weekday:\n",
    "                ban_lat, ban_lon = float(row['Latitude']), float(row['Longitude'])\n",
    "                start_ban, end_ban = get_ban_window(trip_date, row)\n",
    "                ban_windows.append({\n",
    "                    'city': row['City'],\n",
    "                    'start': start_ban,\n",
    "                    'end': end_ban,\n",
    "                    'lat': ban_lat,\n",
    "                    'lon': ban_lon\n",
    "                })\n",
    "    \n",
    "    print(f\"Active ban windows for {trip_weekday}: {len(ban_windows)}\")\n",
    "    \n",
    "    # Walk along the route, checking for ban area entry\n",
    "    delays = []\n",
    "    current_time = start_dt\n",
    "    last_point = segments[0]\n",
    "    distance_travelled = 0\n",
    "    \n",
    "    for i in range(1, len(segments)):\n",
    "        p1 = last_point\n",
    "        p2 = segments[i]\n",
    "        seg_dist = haversine(p1[1], p1[0], p2[1], p2[0])  # in km\n",
    "        seg_time = timedelta(seconds=(seg_dist * 1000) / total_distance * total_duration)  # proportional\n",
    "        eta_to_seg = current_time + seg_time\n",
    "        \n",
    "        # Check each ban area\n",
    "        for ban in ban_windows:\n",
    "            # If segment enters ban area\n",
    "            if point_in_ban_area(p2[1], p2[0], ban['lat'], ban['lon']):\n",
    "                # If ETA falls within ban window, add wait\n",
    "                if ban['start'] <= eta_to_seg <= ban['end']:\n",
    "                    wait = ban['end'] - eta_to_seg\n",
    "                    current_time = ban['end']\n",
    "                    delays.append({\n",
    "                        'city': ban['city'],\n",
    "                        'wait': wait,\n",
    "                        'ban_start': ban['start'],\n",
    "                        'ban_end': ban['end'],\n",
    "                        'eta_at_ban': eta_to_seg,\n",
    "                        'lat': ban['lat'],\n",
    "                        'lon': ban['lon'],\n",
    "                        'stop_lat': p2[1],\n",
    "                        'stop_lon': p2[0]\n",
    "                    })\n",
    "                    # Only delay once per ban area\n",
    "                    ban_windows.remove(ban)\n",
    "                    break\n",
    "        \n",
    "        current_time += seg_time\n",
    "        last_point = p2\n",
    "        distance_travelled += seg_dist\n",
    "    \n",
    "    print(f\"\\n✓ Route analysis complete\")\n",
    "    print(f\"Delays encountered: {len(delays)}\")"
   ]
  },
  {
   "cell_type": "markdown",
   "metadata": {},
   "source": [
    "## Display Results"
   ]
  },
  {
   "cell_type": "code",
   "execution_count": 28,
   "metadata": {},
   "outputs": [],
   "source": [
    "if route is not None:\n",
    "    # Output results\n",
    "    print(f\"\\n{'='*50}\")\n",
    "    print(f\"ESTIMATED ETA: {current_time.strftime('%Y-%m-%d %H:%M:%S %Z')}\")\n",
    "    print(f\"{'='*50}\")\n",
    "    \n",
    "    if delays:\n",
    "        print(\"\\n🚫 DELAYS ENCOUNTERED:\")\n",
    "        print(\"-\" * 40)\n",
    "        for d in delays:\n",
    "            # Round up wait to nearest minute\n",
    "            wait_minutes = int((d['wait'].total_seconds() + 59) // 60)\n",
    "            print(f\"• City: {d['city']}\")\n",
    "            print(f\"  Wait: {wait_minutes} minutes\")\n",
    "            print(f\"  ETA at Ban: {d['eta_at_ban'].strftime('%H:%M')}\")\n",
    "            print(f\"  Ban Window: {d['ban_start'].strftime('%H:%M')} to {d['ban_end'].strftime('%H:%M')}\")\n",
    "            print()\n",
    "    else:\n",
    "        print(\"\\n✅ No ban area delays encountered.\")\n",
    "    \n",
    "    # Print detailed schedule\n",
    "    print(f\"\\n{'='*50}\")\n",
    "    print(\"DETAILED TRIP SCHEDULE\")\n",
    "    print(f\"{'='*50}\")\n",
    "    print(f\"START:   {start_dt.strftime('%Y-%m-%d %H:%M')} at ({START_LAT:.4f}, {START_LON:.4f})\")\n",
    "    \n",
    "    last_time = start_dt\n",
    "    last_lat = START_LAT\n",
    "    last_lon = START_LON\n",
    "    \n",
    "    for d in delays:\n",
    "        wait_minutes = int((d['wait'].total_seconds() + 59) // 60)\n",
    "        print(f\"BAN ARR: {d['eta_at_ban'].strftime('%Y-%m-%d %H:%M')} at ({d['stop_lat']:.4f}, {d['stop_lon']:.4f}) [{d['city']}] (wait {wait_minutes} min)\")\n",
    "        print(f\"BAN DEP: {(d['eta_at_ban'] + d['wait']).strftime('%Y-%m-%d %H:%M')} at ({d['stop_lat']:.4f}, {d['stop_lon']:.4f}) [{d['city']}]\")\n",
    "        last_time = d['eta_at_ban'] + d['wait']\n",
    "        last_lat = d['stop_lat']\n",
    "        last_lon = d['stop_lon']\n",
    "    \n",
    "    print(f\"END:     {current_time.strftime('%Y-%m-%d %H:%M')} at ({END_LAT:.4f}, {END_LON:.4f})\")"
   ]
  },
  {
   "cell_type": "markdown",
   "metadata": {},
   "source": [
    "## Generate Interactive Map"
   ]
  },
  {
   "cell_type": "code",
   "execution_count": 29,
   "metadata": {},
   "outputs": [
    {
     "name": "stdout",
     "output_type": "stream",
     "text": [
      "❌ Cannot generate map - route data not available\n"
     ]
    }
   ],
   "source": [
    "if route is not None:\n",
    "    # Center map between start and end\n",
    "    mid_lat = (START_LAT + END_LAT) / 2\n",
    "    mid_lon = (START_LON + END_LON) / 2\n",
    "    m = folium.Map(location=[mid_lat, mid_lon], zoom_start=6)\n",
    "    \n",
    "    # Draw route polyline\n",
    "    folium.PolyLine(\n",
    "        [(lat, lon) for lon, lat in segments], \n",
    "        color=\"blue\", \n",
    "        weight=5, \n",
    "        opacity=0.7,\n",
    "        tooltip=\"Route\"\n",
    "    ).add_to(m)\n",
    "    \n",
    "    # Mark start and end\n",
    "    folium.Marker(\n",
    "        [START_LAT, START_LON],\n",
    "        popup=f\"Start ({START_LAT:.4f}, {START_LON:.4f})<br>{start_dt.strftime('%Y-%m-%d %H:%M')}\",\n",
    "        icon=folium.Icon(color=\"green\", icon=\"play\")\n",
    "    ).add_to(m)\n",
    "    \n",
    "    folium.Marker(\n",
    "        [END_LAT, END_LON],\n",
    "        popup=f\"End ({END_LAT:.4f}, {END_LON:.4f})<br>{current_time.strftime('%Y-%m-%d %H:%M')}\",\n",
    "        icon=folium.Icon(color=\"red\", icon=\"stop\")\n",
    "    ).add_to(m)\n",
    "    \n",
    "    # Mark ban stops at the actual stop location\n",
    "    for d in delays:\n",
    "        wait_minutes = int((d['wait'].total_seconds() + 59) // 60)\n",
    "        departure_time = (d['eta_at_ban'] + d['wait']).strftime('%Y-%m-%d %H:%M')\n",
    "        folium.CircleMarker(\n",
    "            location=[d['stop_lat'], d['stop_lon']],\n",
    "            radius=14,\n",
    "            color=\"orange\",\n",
    "            fill=True,\n",
    "            fill_color=\"red\",\n",
    "            fill_opacity=0.95,\n",
    "            tooltip=f\"Ban Stop: {d['city']}\",\n",
    "            popup=folium.Popup(\n",
    "                f\"<b>Ban Stop: {d['city']}</b><br>\"\n",
    "                f\"Arrival: {d['eta_at_ban'].strftime('%Y-%m-%d %H:%M')}<br>\"\n",
    "                f\"Departure: {departure_time}<br>\"\n",
    "                f\"Wait: {wait_minutes} min<br>\"\n",
    "                f\"Ban Window: {d['ban_start'].strftime('%H:%M')} - {d['ban_end'].strftime('%H:%M')}\",\n",
    "                max_width=300\n",
    "            )\n",
    "        ).add_to(m)\n",
    "    \n",
    "    # Save and display map\n",
    "    map_file = \"route_map.html\"\n",
    "    m.save(map_file)\n",
    "    print(f\"✓ Interactive map saved as {map_file}\")\n",
    "    print(\"✓ Map will be displayed below:\")\n",
    "    \n",
    "    # Display map in notebook\n",
    "    display(m)\n",
    "else:\n",
    "    print(\"❌ Cannot generate map - route data not available\")"
   ]
  },
  {
   "cell_type": "markdown",
   "metadata": {},
   "source": [
    "## Summary Statistics (Optional)"
   ]
  },
  {
   "cell_type": "code",
   "execution_count": 30,
   "metadata": {},
   "outputs": [],
   "source": [
    "if route is not None:\n",
    "    total_wait_time = sum(d['wait'].total_seconds() for d in delays) / 60  # minutes\n",
    "    original_duration = total_duration / 60  # minutes\n",
    "    final_duration = (current_time - start_dt).total_seconds() / 60  # minutes\n",
    "    \n",
    "    print(f\"\\n{'='*50}\")\n",
    "    print(\"TRIP SUMMARY STATISTICS\")\n",
    "    print(f\"{'='*50}\")\n",
    "    print(f\"Original estimated duration: {original_duration:.0f} minutes ({original_duration/60:.1f} hours)\")\n",
    "    print(f\"Total wait time due to bans: {total_wait_time:.0f} minutes ({total_wait_time/60:.1f} hours)\")\n",
    "    print(f\"Final trip duration: {final_duration:.0f} minutes ({final_duration/60:.1f} hours)\")\n",
    "    print(f\"Delay percentage: {(total_wait_time/original_duration*100):.1f}%\")\n",
    "    print(f\"Distance: {total_distance/1000:.1f} km\")\n",
    "    print(f\"Number of ban stops: {len(delays)}\")"
   ]
  }
 ],
 "metadata": {
  "kernelspec": {
   "display_name": "Python 3 (ipykernel)",
   "language": "python",
   "name": "python3"
  },
  "language_info": {
   "codemirror_mode": {
    "name": "ipython",
    "version": 3
   },
   "file_extension": ".py",
   "mimetype": "text/x-python",
   "name": "python",
   "nbconvert_exporter": "python",
   "pygments_lexer": "ipython3",
   "version": "3.12.3"
  }
 },
 "nbformat": 4,
 "nbformat_minor": 4
}
